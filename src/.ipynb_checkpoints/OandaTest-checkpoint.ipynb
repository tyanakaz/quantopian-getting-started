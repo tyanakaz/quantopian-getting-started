{
 "cells": [
  {
   "cell_type": "code",
   "execution_count": null,
   "metadata": {},
   "outputs": [],
   "source": [
    "import os\n",
    "\n",
    "from oandapyV20 import API\n",
    "import oandapyV20.endpoints.instruments as instruments\n",
    "import pandas as pd\n",
    "import matplotlib as mpl\n",
    "import matplotlib.pyplot as plt\n",
    "import pandas_datareader as pdr\n",
    "from mpl_finance import candlestick_ohlc\n",
    "\n",
    "\n",
    "# APIの設定\n",
    "accountID = \"000-000-0000000-000\"\n",
    "\n",
    "api = API(access_token=os.environ['OANDA_ACCESS_TOKEN'])\n",
    "\n",
    "average_count = 20\n",
    "data_count = 5000\n",
    "\n",
    "num_count = int(data_count / average_count)\n",
    "\n",
    "# 5分間隔で5000データ\n",
    "params = {\n",
    "    \"count\": data_count,\n",
    "    \"granularity\": \"M1\"\n",
    "}\n",
    "\n",
    "# APIへ過去データをリクエスト\n",
    "r = instruments.InstrumentsCandles(instrument=\"USD_JPY\", params=params)\n",
    "api.request(r)\n",
    "\n",
    "# row_dataとしてリストへ変換\n",
    "row_data = []\n",
    "\n",
    "columns = ['time', 'volume', 'open_value', 'high_value', 'low_value', 'close_value']\n",
    "\n",
    "# 全リスト取得\n",
    "for raw in r.response['candles']:\n",
    "  row_data.append([raw['time'], raw['volume'], raw['mid']['o'], raw['mid']['h'], raw['mid']['l'], raw['mid']['c']])\n",
    "\n",
    "# df = pd.DataFrame(data=row_data, columns=columns)\n",
    "\n",
    "df = pdr.get_data_yahoo('AAPL', '2019-08-16', '2019-09-19')\n",
    "ax = plt.subplot()\n",
    "ax.xaxis.set_major_formatter(mdates.DateFormatter('%m/%d'))\n",
    "candlestick_ohlc(ax, zip(mdates.date2num(df.index), df['Open'], df['High'], df['Low'], df['Close']), width=0.４)\n",
    "plt.title('apple')\n",
    "# plt.savefig('stock.png')\n",
    "\n",
    "print(\"plt\")\n",
    "\n",
    "plt.show()"
   ]
  },
  {
   "cell_type": "code",
   "execution_count": null,
   "metadata": {},
   "outputs": [],
   "source": []
  },
  {
   "cell_type": "code",
   "execution_count": null,
   "metadata": {},
   "outputs": [],
   "source": []
  },
  {
   "cell_type": "code",
   "execution_count": null,
   "metadata": {},
   "outputs": [],
   "source": []
  },
  {
   "cell_type": "code",
   "execution_count": null,
   "metadata": {},
   "outputs": [],
   "source": []
  },
  {
   "cell_type": "code",
   "execution_count": null,
   "metadata": {},
   "outputs": [],
   "source": []
  },
  {
   "cell_type": "code",
   "execution_count": null,
   "metadata": {},
   "outputs": [],
   "source": []
  },
  {
   "cell_type": "code",
   "execution_count": null,
   "metadata": {},
   "outputs": [],
   "source": []
  },
  {
   "cell_type": "code",
   "execution_count": null,
   "metadata": {},
   "outputs": [],
   "source": []
  },
  {
   "cell_type": "code",
   "execution_count": null,
   "metadata": {},
   "outputs": [],
   "source": []
  },
  {
   "cell_type": "code",
   "execution_count": null,
   "metadata": {},
   "outputs": [],
   "source": []
  },
  {
   "cell_type": "code",
   "execution_count": null,
   "metadata": {},
   "outputs": [],
   "source": []
  },
  {
   "cell_type": "code",
   "execution_count": null,
   "metadata": {},
   "outputs": [],
   "source": []
  },
  {
   "cell_type": "code",
   "execution_count": null,
   "metadata": {},
   "outputs": [],
   "source": []
  },
  {
   "cell_type": "code",
   "execution_count": null,
   "metadata": {},
   "outputs": [],
   "source": []
  },
  {
   "cell_type": "code",
   "execution_count": null,
   "metadata": {},
   "outputs": [],
   "source": []
  },
  {
   "cell_type": "code",
   "execution_count": null,
   "metadata": {},
   "outputs": [],
   "source": []
  },
  {
   "cell_type": "code",
   "execution_count": null,
   "metadata": {},
   "outputs": [],
   "source": []
  }
 ],
 "metadata": {
  "kernelspec": {
   "display_name": "Python 3",
   "language": "python",
   "name": "python3"
  },
  "language_info": {
   "codemirror_mode": {
    "name": "ipython",
    "version": 3
   },
   "file_extension": ".py",
   "mimetype": "text/x-python",
   "name": "python",
   "nbconvert_exporter": "python",
   "pygments_lexer": "ipython3",
   "version": "3.8.3"
  }
 },
 "nbformat": 4,
 "nbformat_minor": 4
}
