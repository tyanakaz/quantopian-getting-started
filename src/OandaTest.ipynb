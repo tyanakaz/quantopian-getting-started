{
 "cells": [
  {
   "cell_type": "code",
   "execution_count": 64,
   "metadata": {
    "scrolled": true
   },
   "outputs": [
    {
     "ename": "SyntaxError",
     "evalue": "invalid syntax (<ipython-input-64-653deba1e048>, line 45)",
     "output_type": "error",
     "traceback": [
      "\u001b[0;36m  File \u001b[0;32m\"<ipython-input-64-653deba1e048>\"\u001b[0;36m, line \u001b[0;32m45\u001b[0m\n\u001b[0;31m    candlestick2_ohlc(, df['open_value'], df['high_value'], df['low_value'], df['close_value'], width=0.4, alpha=1)\u001b[0m\n\u001b[0m                      ^\u001b[0m\n\u001b[0;31mSyntaxError\u001b[0m\u001b[0;31m:\u001b[0m invalid syntax\n"
     ]
    }
   ],
   "source": [
    "import os\n",
    "\n",
    "from oandapyV20 import API\n",
    "import oandapyV20.endpoints.instruments as instruments\n",
    "import pandas as pd\n",
    "import matplotlib as mpl\n",
    "import matplotlib.pyplot as plt\n",
    "import matplotlib.dates as mdates\n",
    "import pandas_datareader as pdr\n",
    "from mpl_finance import candlestick_ohlc\n",
    "\n",
    "\n",
    "# APIの設定\n",
    "accountID = \"000-000-0000000-000\"\n",
    "\n",
    "api = API(access_token=os.environ['OANDA_ACCESS_TOKEN'])\n",
    "\n",
    "average_count = 20\n",
    "data_count = 5000\n",
    "\n",
    "num_count = int(data_count / average_count)\n",
    "\n",
    "# 5分間隔で5000データ\n",
    "params = {\n",
    "    \"count\": data_count,\n",
    "    \"granularity\": \"M1\"\n",
    "}\n",
    "\n",
    "# APIへ過去データをリクエスト\n",
    "r = instruments.InstrumentsCandles(instrument=\"USD_JPY\", params=params)\n",
    "api.request(r)\n",
    "\n",
    "# row_dataとしてリストへ変換\n",
    "raw_data = []\n",
    "\n",
    "columns = ['time', 'volume', 'open_value', 'high_value', 'low_value', 'close_value']\n",
    "\n",
    "# 全リスト取得\n",
    "for raw in r.response['candles']:\n",
    "  raw_data.append([raw['time'], raw['volume'], raw['mid']['o'], raw['mid']['h'], raw['mid']['l'], raw['mid']['c']])\n",
    "\n",
    "df = pd.DataFrame(data=raw_data, columns=columns)\n",
    "\n",
    "ax = plt.subplot()\n",
    "candlestick2_ohlc(ax, df['open_value'], df['high_value'], df['low_value'], df['close_value'], width=0.4, alpha=1)\n",
    "plt.axis(\"on\")\n",
    "plt.figure(figsize=(100,100))\n",
    "plt.savefig('stock.png', bbox_inches='tight', pad_inches=0.0)"
   ]
  },
  {
   "cell_type": "code",
   "execution_count": 54,
   "metadata": {},
   "outputs": [
    {
     "name": "stdout",
     "output_type": "stream",
     "text": [
      "                  High         Low        Open       Close    Volume  \\\n",
      "Date                                                                   \n",
      "2019-08-16  207.160004  203.839996  204.279999  206.500000  27620400   \n",
      "2019-08-19  212.729996  210.029999  210.619995  210.350006  24413600   \n",
      "2019-08-20  213.350006  210.320007  210.880005  210.360001  26884300   \n",
      "2019-08-21  213.649994  211.600006  212.990005  212.639999  21535400   \n",
      "2019-08-22  214.440002  210.750000  213.190002  212.460007  22253700   \n",
      "2019-08-23  212.050003  201.000000  209.429993  202.639999  46818000   \n",
      "2019-08-26  207.190002  205.059998  205.860001  206.490005  26043600   \n",
      "2019-08-27  208.550003  203.529999  207.860001  204.160004  25873300   \n",
      "2019-08-28  205.720001  203.320007  204.100006  205.529999  15938800   \n",
      "2019-08-29  209.320007  206.660004  208.500000  209.009995  20990500   \n",
      "2019-08-30  210.449997  207.199997  210.160004  208.740005  21143400   \n",
      "2019-09-03  206.979996  204.220001  206.429993  205.699997  20023000   \n",
      "2019-09-04  209.479996  207.320007  208.389999  209.190002  19188100   \n",
      "2019-09-05  213.970001  211.509995  212.000000  213.279999  23913700   \n",
      "2019-09-06  214.419998  212.509995  214.050003  213.259995  19362300   \n",
      "2019-09-09  216.440002  211.070007  214.839996  214.169998  27309400   \n",
      "2019-09-10  216.779999  211.710007  213.860001  216.699997  31777900   \n",
      "2019-09-11  223.710007  217.729996  218.070007  223.589996  44289600   \n",
      "2019-09-12  226.419998  222.860001  224.800003  223.089996  32226700   \n",
      "2019-09-13  220.789993  217.020004  220.000000  218.750000  39763300   \n",
      "2019-09-16  220.130005  217.559998  217.729996  219.899994  21158100   \n",
      "2019-09-17  220.820007  219.119995  219.960007  220.699997  18318700   \n",
      "2019-09-18  222.850006  219.440002  221.059998  222.770004  25340000   \n",
      "2019-09-19  223.759995  220.369995  222.009995  220.960007  22060600   \n",
      "\n",
      "             Adj Close  \n",
      "Date                    \n",
      "2019-08-16  204.839920  \n",
      "2019-08-19  208.658981  \n",
      "2019-08-20  208.668900  \n",
      "2019-08-21  210.930573  \n",
      "2019-08-22  210.752029  \n",
      "2019-08-23  201.010971  \n",
      "2019-08-26  204.830002  \n",
      "2019-08-27  202.518738  \n",
      "2019-08-28  203.877731  \n",
      "2019-08-29  207.329742  \n",
      "2019-08-30  207.061920  \n",
      "2019-09-03  204.046341  \n",
      "2019-09-04  207.508316  \n",
      "2019-09-05  211.565414  \n",
      "2019-09-06  211.545578  \n",
      "2019-09-09  212.448273  \n",
      "2019-09-10  214.957916  \n",
      "2019-09-11  221.792542  \n",
      "2019-09-12  221.296555  \n",
      "2019-09-13  216.991455  \n",
      "2019-09-16  218.132202  \n",
      "2019-09-17  218.925781  \n",
      "2019-09-18  220.979141  \n",
      "2019-09-19  219.183701  \n"
     ]
    },
    {
     "data": {
      "image/png": "[encoded data removed]",
      "text/plain": [
       "<Figure size 432x288 with 1 Axes>"
      ]
     },
     "metadata": {
      "needs_background": "light"
     },
     "output_type": "display_data"
    }
   ],
   "source": [
    "import pandas_datareader as pdr\n",
    "import matplotlib.dates as mdates\n",
    "import matplotlib.pyplot as plt\n",
    "\n",
    "from mpl_finance import candlestick2_ohlc\n",
    "df = pdr.get_data_yahoo('AAPL', '2019-08-16', '2019-09-19')\n",
    "print(df)\n",
    "ax = plt.subplot()\n",
    "candlestick2_ohlc(ax, df['Open'], df['High'], df['Low'], df['Close'], width=0.4, alpha=1)\n",
    "plt.axis(\"off\")\n",
    "plt.savefig('stock.png', bbox_inches='tight', pad_inches=0.0)"
   ]
  },
  {
   "cell_type": "code",
   "execution_count": null,
   "metadata": {},
   "outputs": [],
   "source": []
  },
  {
   "cell_type": "code",
   "execution_count": null,
   "metadata": {},
   "outputs": [],
   "source": []
  },
  {
   "cell_type": "code",
   "execution_count": null,
   "metadata": {},
   "outputs": [],
   "source": []
  },
  {
   "cell_type": "code",
   "execution_count": null,
   "metadata": {},
   "outputs": [],
   "source": []
  }
 ],
 "metadata": {
  "kernelspec": {
   "display_name": "Python 3",
   "language": "python",
   "name": "python3"
  },
  "language_info": {
   "codemirror_mode": {
    "name": "ipython",
    "version": 3
   },
   "file_extension": ".py",
   "mimetype": "text/x-python",
   "name": "python",
   "nbconvert_exporter": "python",
   "pygments_lexer": "ipython3",
   "version": "3.8.3"
  }
 },
 "nbformat": 4,
 "nbformat_minor": 4
}
